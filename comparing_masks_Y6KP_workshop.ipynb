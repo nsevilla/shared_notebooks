{
 "cells": [
  {
   "cell_type": "code",
   "execution_count": 1,
   "id": "55ccdb40",
   "metadata": {},
   "outputs": [],
   "source": [
    "import healpy as hp\n",
    "import matplotlib.pyplot as plt\n",
    "import healsparse as hs\n",
    "import fitsio\n",
    "import numpy as np\n",
    "import sys\n",
    "import skyproj"
   ]
  },
  {
   "cell_type": "code",
   "execution_count": 2,
   "id": "eba6a96b",
   "metadata": {},
   "outputs": [
    {
     "data": {
      "text/html": [
       "<style>.container { width:100% !important; }</style>"
      ],
      "text/plain": [
       "<IPython.core.display.HTML object>"
      ]
     },
     "metadata": {},
     "output_type": "display_data"
    }
   ],
   "source": [
    "from IPython.display import display, HTML #wider cells\n",
    "display(HTML(\"<style>.container { width:100% !important; }</style>\"))"
   ]
  },
  {
   "cell_type": "code",
   "execution_count": 3,
   "id": "46bcc983",
   "metadata": {},
   "outputs": [
    {
     "name": "stdout",
     "output_type": "stream",
     "text": [
      "1.6.4\n"
     ]
    }
   ],
   "source": [
    "print(hs.__version__)"
   ]
  },
  {
   "cell_type": "code",
   "execution_count": 4,
   "id": "26d4edc2",
   "metadata": {},
   "outputs": [
    {
     "name": "stdout",
     "output_type": "stream",
     "text": [
      "0.7376604303613772 arcmin squared\n",
      "0.046103776897586074 arcmin squared\n"
     ]
    }
   ],
   "source": [
    "resol_4096 = hp.nside2resol(4096, arcmin=True)\n",
    "areapx_4096 = resol_4096*resol_4096\n",
    "print(areapx_4096,'arcmin squared')\n",
    "resol_16384 = hp.nside2resol(16384, arcmin=True)\n",
    "areapx_16384 = resol_16384*resol_16384\n",
    "print(areapx_16384,'arcmin squared')"
   ]
  },
  {
   "cell_type": "code",
   "execution_count": 8,
   "id": "75414602",
   "metadata": {},
   "outputs": [],
   "source": [
    "datadir = '/afs/ciemat.es/user/s/sevilla/data/masks/'\n",
    "filename_gold_footprint = datadir+'y6a2_footprint_v2.0.hs' #nominal DES footprint from Gold\n",
    "filename_gold_foregrounds_v13 = datadir+'y6a2_foreground_mask_v1.3.fits.gz' #current official Gold foreground mask\n",
    "filename_gold_foregrounds_v14 = datadir+'y6a2_foreground_mask_healsparse_nside16384.fits.gz' #new version from David at higher res\n",
    "filename_sh = datadir+'y6-combined-hleda-gaiafull-des-stars-hsmap16384-nomdet-v3.fits' #shear catalog footprint"
   ]
  },
  {
   "cell_type": "code",
   "execution_count": 9,
   "id": "8c0bff79",
   "metadata": {},
   "outputs": [],
   "source": [
    "footprint = hs.HealSparseMap.read(filename_gold_footprint, 32) #nominal footprint of DES \n",
    "mask_gold_v13 = hs.HealSparseMap.read(filename_gold_foregrounds_v13, 32) #note that this file contains the areas to be masked out, not a footprint\n",
    "mask_gold_v14 = hs.HealSparseMap.read(filename_gold_foregrounds_v14, 32) #note that this file contains the areas to be masked out, not a footprint"
   ]
  },
  {
   "cell_type": "code",
   "execution_count": 14,
   "id": "2ef866bc",
   "metadata": {},
   "outputs": [],
   "source": [
    "#count the number of pixels in the mask\n",
    "validpx_mask_gold_v13 = len(mask_gold_v13.valid_pixels)\n",
    "validpx_mask_gold_v14 = len(mask_gold_v14.valid_pixels)"
   ]
  },
  {
   "cell_type": "code",
   "execution_count": 15,
   "id": "a4ecee06",
   "metadata": {},
   "outputs": [
    {
     "name": "stdout",
     "output_type": "stream",
     "text": [
      "654.5291734447765 sq.deg. gold foreground mask v1.3 (low res)\n",
      "654.4192671632945 sq.deg. gold foreground mask v1.4 (high res)\n"
     ]
    }
   ],
   "source": [
    "#calculate the area that the mask has cut out\n",
    "print(areapx_4096*validpx_mask_gold_v13/3600.,'sq.deg. gold foreground mask v1.3 (low res)')\n",
    "print(areapx_16384*validpx_mask_gold_v14/3600.,'sq.deg. gold foreground mask v1.4 (high res)')"
   ]
  },
  {
   "cell_type": "code",
   "execution_count": null,
   "id": "2ecb12d5",
   "metadata": {},
   "outputs": [],
   "source": []
  },
  {
   "cell_type": "code",
   "execution_count": null,
   "id": "15fe2c75",
   "metadata": {},
   "outputs": [],
   "source": []
  },
  {
   "cell_type": "code",
   "execution_count": null,
   "id": "f057799e",
   "metadata": {},
   "outputs": [],
   "source": []
  },
  {
   "cell_type": "code",
   "execution_count": 10,
   "id": "966f1b3b",
   "metadata": {},
   "outputs": [],
   "source": [
    "# we create two high resolution versions of the footprint, where we will apply subsequent cuts based on the foregrounds (v1.3 and v1.4)\n",
    "import copy\n",
    "footprint_selv13 = copy.deepcopy(footprint)\n",
    "footprint_selv13 = footprint_selv13.upgrade(16384)\n",
    "footprint_selv14 = copy.deepcopy(footprint)\n",
    "footprint_selv14 = footprint_selv14.upgrade(16384)"
   ]
  },
  {
   "cell_type": "code",
   "execution_count": 11,
   "id": "ecda0e1a",
   "metadata": {},
   "outputs": [],
   "source": [
    "#let's count and store the number of pixels of each footprint, to calculate the total area\n",
    "validpx_foot = len(footprint.valid_pixels)\n",
    "validpx_foot_selv13 = len(footprint_selv13.valid_pixels)\n",
    "validpx_foot_selv14 = len(footprint_selv14.valid_pixels)"
   ]
  },
  {
   "cell_type": "code",
   "execution_count": 12,
   "id": "02a76427",
   "metadata": {},
   "outputs": [
    {
     "name": "stdout",
     "output_type": "stream",
     "text": [
      "5171.73625273524 sq.deg. gold foreground masked footprint v1.3, no fracdet\n",
      "5171.73625273524 sq.deg. gold foreground masked footprint v1.4, no fracdet\n"
     ]
    }
   ],
   "source": [
    "print(areapx_16384*validpx_foot_selv13/3600.,'sq.deg. gold foreground masked footprint v1.3, no fracdet')\n",
    "print(areapx_16384*validpx_foot_selv14/3600.,'sq.deg. gold foreground masked footprint v1.4, no fracdet')"
   ]
  },
  {
   "cell_type": "code",
   "execution_count": null,
   "id": "eebe0c1e",
   "metadata": {},
   "outputs": [],
   "source": []
  }
 ],
 "metadata": {
  "kernelspec": {
   "display_name": "Python 3 (ipykernel)",
   "language": "python",
   "name": "python3"
  },
  "language_info": {
   "codemirror_mode": {
    "name": "ipython",
    "version": 3
   },
   "file_extension": ".py",
   "mimetype": "text/x-python",
   "name": "python",
   "nbconvert_exporter": "python",
   "pygments_lexer": "ipython3",
   "version": "3.8.11"
  }
 },
 "nbformat": 4,
 "nbformat_minor": 5
}
